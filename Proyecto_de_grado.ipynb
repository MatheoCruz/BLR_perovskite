{
  "nbformat": 4,
  "nbformat_minor": 0,
  "metadata": {
    "colab": {
      "provenance": [],
      "authorship_tag": "ABX9TyPYZPTZfFGD0+PceUaSzfaO",
      "include_colab_link": true
    },
    "kernelspec": {
      "name": "python3",
      "display_name": "Python 3"
    },
    "language_info": {
      "name": "python"
    }
  },
  "cells": [
    {
      "cell_type": "markdown",
      "metadata": {
        "id": "view-in-github",
        "colab_type": "text"
      },
      "source": [
        "<a href=\"https://colab.research.google.com/github/MatheoCruz/BLR_perovskite/blob/main/Proyecto_de_grado.ipynb\" target=\"_parent\"><img src=\"https://colab.research.google.com/assets/colab-badge.svg\" alt=\"Open In Colab\"/></a>"
      ]
    },
    {
      "cell_type": "markdown",
      "source": [
        "# *PROYECTO DE GRADO: ETAPA DE INFERENCIA BAYESIANA (Imputación)*\n"
      ],
      "metadata": {
        "id": "un-oD4UMVZ48"
      }
    },
    {
      "cell_type": "markdown",
      "source": [
        "## IMPORTACION"
      ],
      "metadata": {
        "id": "bYtIeReSVzkp"
      }
    },
    {
      "cell_type": "code",
      "source": [
        "from google.colab import drive\n",
        "drive.mount('/content/drive')"
      ],
      "metadata": {
        "colab": {
          "base_uri": "https://localhost:8080/"
        },
        "id": "60vjWsLDrck0",
        "outputId": "b6dbf05f-2af6-4696-cfd2-3a6ec43ed6bc"
      },
      "execution_count": null,
      "outputs": [
        {
          "output_type": "stream",
          "name": "stdout",
          "text": [
            "Mounted at /content/drive\n"
          ]
        }
      ]
    },
    {
      "cell_type": "code",
      "source": [
        "#Importacion de librerias\n",
        "import pandas as pd\n",
        "import numpy as np\n",
        "import matplotlib.pyplot as plt\n",
        "import pymc as pm\n",
        "import arviz as az\n",
        "from functools import partial\n",
        "from scipy.stats import norm\n",
        "from sklearn.model_selection import KFold\n",
        "from scipy import stats\n",
        "import seaborn as sns\n",
        "import pickle\n",
        "#Importacion de base de datos\n",
        "#Import data base\n",
        "data = pd.DataFrame(pd.read_csv(\"/content/drive/MyDrive/Deep Learning/TG/Preprocesamiento/data_training_copy.csv\"))#datos de entrenamiento preprocesados\n",
        "priori_x_grids = pd.DataFrame(pd.read_csv(\"/content/drive/MyDrive/Deep Learning/TG/Preprocesamiento/priori_x_grids.csv\")) #grilla eje X del PDF priori generada por KDE para las variables A, B, X, Band_gap, Thickness, PCE, Jsc, FF, Voc\n",
        "priori_y_grids = pd.DataFrame(pd.read_csv(\"/content/drive/MyDrive/Deep Learning/TG/Preprocesamiento/priori_y_grids.csv\")) #grilla eje Y del PDF priori generada por KDE para las variables A, B, X, Band_gap, Thickness, PCE, Jsc, FF, Voc"
      ],
      "metadata": {
        "id": "e4nIn6fjV6qi"
      },
      "execution_count": null,
      "outputs": []
    },
    {
      "cell_type": "code",
      "source": [
        "#creamos los kde para la construccion de los priori\n",
        "priori_x_grids = {'A':priori_x_grids['A'], 'B':priori_x_grids['B'], 'X':priori_x_grids['X'], 'Band_gap':priori_x_grids['Bandgap'],\n",
        "         'Thickness':priori_x_grids['Thickness'], 'PCE':priori_x_grids['PCE'], 'Voc':priori_x_grids['Voc'], 'Jsc':priori_x_grids['Jsc'], 'FF':priori_x_grids['FF']}\n",
        "priori_y_grids = {'A':priori_y_grids['A'], 'B':priori_y_grids['B'], 'X':priori_y_grids['X'], 'Band_gap':priori_y_grids['Bandgap'],\n",
        "         'Thickness':priori_y_grids['Thickness'], 'PCE':priori_y_grids['PCE'], 'Voc':priori_y_grids['Voc'], 'Jsc':priori_y_grids['Jsc'], 'FF':priori_y_grids['FF']}"
      ],
      "metadata": {
        "id": "KwfYTrCkpaWg"
      },
      "execution_count": null,
      "outputs": []
    },
    {
      "cell_type": "markdown",
      "source": [
        "## FUNCIONES\n",
        "### correlacion_pearson:\n",
        "Esta funcion calculo la correlacion de pearson existente entre las variables del modelo y sus posibles transformaciones, dotando esta relacion de un valor numerico.\n",
        "### transformation_optima:\n",
        "Esta funcion toma como entrada la correlacion existente entre las variables y sus posibles transformaciones y busca obtener la mejor transformacion dado el valor numerico de la correlacion y un umbral minimo que ha de cumplir dicha correlacion.\n",
        "### transformation_by_variable:\n",
        "Toma como parametro de entrada la transformacion optima, y dado una variable de interes se ordenan para esta las transformaciones de cada variable asociada a esta.\n",
        "### make_transformations:\n",
        "Esta funcion toma un conjunto de datos y una variable de interes, a la que dada las transformaciones optimas por variable realiza las transformaciones indicadas al conjunto de datos.\n",
        "### pdf_normal:\n",
        "Retorna una funcion de densidad de probabilidad normal, asociandola a un nombre, una media y una desviacion estandar.\n",
        "### build_linear_model_bayesian\n",
        "$$Y = βX + α$$\n",
        "Tomando como comparativa la regresion lineal tradicional, la regresion lineal bayesiana es muy similar, siendo $α$ la funcion de densidad de probabiliad priori, es decir la creencia previa del comportamiento de $Y$, y siendo $\\beta$ los parametros predictores asociados a las entradas $X$ del modelo."
      ],
      "metadata": {
        "id": "tZ_nbcIqv2SE"
      }
    },
    {
      "cell_type": "code",
      "source": [
        "#Funcion para definir las transformaciones a realizar dadas sus correlaciones\\\n",
        "###\n",
        "def pdf_normal(name, mean, std):\n",
        "  return pm.Normal(name, mu = mean, sigma = std) #Retorna una PDF normal con una clave o etiqueta dada por \"name\".\n",
        "###\n",
        "def correlation_pearson(data):\n",
        "  transformations = [None, np.log, np.exp, np.square, np.sqrt] #Transformaciones u operaciones predeterminadas a analizar.\n",
        "  name_transformations = [\"None\", \"log\", \"exp\", \"square\", \"sqrt\"] #String representativo de las transformaciones.\n",
        "  correlation_types = [\"pearson\"] #Se define el tipo de correlacion que se va determinar \"pearson\" en este caso, indica la correlacioon directamente lineal.\n",
        "  # Calcular correlaciones\n",
        "  correlations = {} #Variable de salida que contiene la correlacion de cada variable frente a las otras variables.\n",
        "  restrictions = {} #Variable de salida que contiene las variables cuya transformacion genera indeterminaciones.\n",
        "  for column_name in data.columns: #Se extrae columna por columna su determiando indice para realizar el analisis.\n",
        "      column = data[column_name] #Se extrae dicha columna.\n",
        "      column_correlations = {} #Variable temporal de la correlacion por columna.\n",
        "      temporary_restrictions = {} #Variable temporalñ de las restricciones.\n",
        "      i=0\n",
        "      for transform in transformations: #Trasformaciones\n",
        "          column_transformed = column if transform is None else column.apply(transform) #Se aplica la transformacion.\n",
        "          for correlation_type in correlation_types:\n",
        "              data_transformed = pd.concat([data.drop(column_name, axis=1), column_transformed], axis=1) #Columna de variable transformada.\n",
        "              corr = data_transformed.corr(method=correlation_type) #Correlacion de dicha variable transformada con el resto de variables o columnas.\n",
        "              column_correlations[name_transformations[i]] = corr[column_name][:-1] #Se guarda la correlacion dada la transformacion.\n",
        "              if np.isnan(column_transformed).any(): #Condicionamiento de la restriccion\n",
        "                temporary_restrictions[name_transformations[i]] = True\n",
        "              else:\n",
        "                temporary_restrictions[name_transformations[i]] = False\n",
        "          i=i+1\n",
        "          correlations[column_name] = column_correlations #Correlaciones por variable.\n",
        "          restrictions[column_name] = temporary_restrictions #Restricciones por variable.\n",
        "  return correlations, restrictions\n",
        "###\n",
        "###\n",
        "def transformation_optima(correlations,restrictions,umbral = 0.55):\n",
        "  correlations = pd.DataFrame(correlations) #Se convierte a DF el diccionario de correlaciones.\n",
        "  m,n = correlations.shape #Se extraen sus dimensiones.\n",
        "  optimal_transformation = {} #Variable de salida que contiene la transformacion optima\n",
        "  transformations = [None, np.log, np.exp, np.square, np.sqrt] #Transformaciones\n",
        "  name_transformations = [\"None\", \"log\", \"exp\", \"square\", \"sqrt\"] #String asociado a las transformaciones\n",
        "  for columns in correlations.columns: #Se extrae variable por columna del diccionario de correlaciones.\n",
        "    temporary_transformation = [\"None\"]*(n-1) #Variable temporal e inicial de la transformacion optima\n",
        "    temporary_conditional = [0]*(n-1) #Variable de condicional temporal e inicial.\n",
        "    for names in name_transformations: #Se analiza una transformacion a la vez.\n",
        "      i = 0\n",
        "      temporary_optimal_transformation = {} #variable temporal de las entradas de las transformaciones\n",
        "      for i in range(n-1):\n",
        "        key = correlations[columns][names].keys()[i] #variable correlacionada.\n",
        "        conditional = round(correlations[columns][names][key],2) #Se establece la condicion de optima correlacion\n",
        "        if restrictions[columns][names]: #Restriccion de indeterminaciones\n",
        "          temporary_optimal_transformation[key] = 'None'\n",
        "        else:\n",
        "          if abs(conditional) > umbral: #Condicion de valor minimo absoluto de correlacion.\n",
        "            if abs(conditional) > temporary_conditional[i]: #Condicion de valor mayor que el valor anterior de correlacion\n",
        "              temporary_optimal_transformation[key] = names #Optima transformacion por variable correlacionada actual.\n",
        "              temporary_transformation[i] = names #Se guarda en una variable temporal el nombre de la transformacion\n",
        "              temporary_conditional[i] = abs(conditional) #Se guarda el valor actual de correlacion.\n",
        "            else:\n",
        "              temporary_optimal_transformation[key] = temporary_transformation[i] #Optima transfoprmacion por variable correlacionada anterior.\n",
        "          else:\n",
        "            temporary_optimal_transformation[key] = temporary_transformation[i] #Optima transformacion por variable correlacionada anterior o inicial.\n",
        "    optimal_transformation[columns] = temporary_optimal_transformation #Optima transformacion pro variable.\n",
        "  return optimal_transformation\n",
        "###\n",
        "###\n",
        "def transformation_by_variable(optimal_transformation):\n",
        "  transformations_by_variable = {} #Se ordenal las transformaciones optimas que se realizaran dependiendo de la variable de interes.\n",
        "  for keys in optimal_transformation.keys(): #keys del diccionario de transformaciones optimas por variable.\n",
        "    variables = list(optimal_transformation.keys()) #Se convierte en una lista las keys\n",
        "    variables.remove(keys) #Se remueve las variable actual\n",
        "    temporary_transformation = {}\n",
        "    for vars in variables: #Variables de interes\n",
        "      temporary_transformation[vars] = optimal_transformation[vars][keys] # se guarda la transformacion de la variable igual a la key en la variable de interes actual.\n",
        "    transformations_by_variable[keys] = temporary_transformation #Se guardan todas las transformaciones de las variables relacionadas de la variable de interes.\n",
        "  return transformations_by_variable\n",
        "###\n",
        "def make_transformations(data, condicion):\n",
        "  output = data[condicion] #De un dataset de datos se extrae la variable de interes \"variable de salida o variable a imputar\".\n",
        "  inputs = data.drop(condicion, axis = 1) #Variable relacionadas a la variable de interes o \"variables de entrada\".\n",
        "  Correlations, Restrictions = correlation_pearson(data)#Se generan las correlaciones y sus posibles restricciones por transformacion.\n",
        "  optimal_transformation = transformation_optima(Correlations, Restrictions, 0.55) #Se escogen las transformaciones optima con un umbral de 0.55.\n",
        "  Transformations = transformation_by_variable(optimal_transformation)#Se ordenan las transformaciones dada la variable de interes es decir \"output\".\n",
        "  dict_transformation = dict(zip([\"None\", \"log\", \"exp\", \"square\", \"sqrt\"], [None, np.log, np.exp, np.square, np.sqrt])) #Diccionario de transformaciones\n",
        "  retorno = {} #variable de retorno de las entradas transformadas.\n",
        "  for name_var in inputs.columns: #Se recorren las variables de entrada\n",
        "    var = inputs[name_var]\n",
        "    associated_transformation = dict_transformation[Transformations[condicion][name_var]] #Se asocia la variable de entrada a una transformacion optima por variable.\n",
        "    var_transformada = var if associated_transformation is None else var.apply(associated_transformation) # Se realiza la transformacion.\n",
        "    retorno[name_var] = var_transformada #Se retorna la variable transformada\n",
        "  inputs = pd.DataFrame(retorno)\n",
        "  return output, inputs\n",
        "#Funcion constructora del modelo\n",
        "def build_linear_model_bayesian(X,y,data,entradas,priori_x_grids,priori_y_grids):\n",
        "    with pm.Model() as modelo: #Se declara un elemento modelo de Pymc\n",
        "        x_shared = pm.Data(\"x_shared\", X, mutable = True)\n",
        "        #Condicion para las variables que no cuentan con un Priori construido por medio de un KDE, se les genera una distribucion uniforme basada en el reango de valores en el que puede variar la variable\n",
        "        if data == 'DeltaL':\n",
        "          alpha = pm.Uniform(data, lower = 0, upper = 1) #Distribucion uniforme entre 0 y 1\n",
        "        elif data == 'DeltaH':\n",
        "          alpha = pm.Uniform(data, lower = 0, upper = 1) #Distribucion uniforme entre 0 y 1\n",
        "        elif data == 'Grain_size':\n",
        "          alpha = pm.Uniform(data, lower = 0.01, upper=  3.5) #Distribucion uniforme entre 0.01 y 3.5\n",
        "        else:\n",
        "          alpha = pm.Interpolated(data, np.asarray(priori_x_grids[data]), np.asarray(priori_y_grids[data])) # \"alpha\" PDF asociada a la variables de salida \"PDF\"\n",
        "        betas = [] #lista que contendra las PDF asociadas a las entradas.\n",
        "        for entrada in entradas:\n",
        "         betas.append(pdf_normal(entrada, 0, 10)) #PDF asociada a las variables de entrada del modelo\n",
        "        sigma = pm.HalfNormal('sigma',sigma = 1)# Varianza del error\n",
        "        y_est = pm.Deterministic('y_est', alpha + pm.math.dot(x_shared,betas)) #Modelo lineal\n",
        "        likelihood = pm.Normal('y_obs',mu = y_est, sigma=sigma, observed = y) #Probabilidad asociada al modelo lineal\n",
        "        # Regularización L2\n",
        "        reg = pm.math.sum(pm.math.sqr(betas)) + pm.math.sqr(alpha)\n",
        "        ridge = pm.Potential('ridge', -0.5*reg)\n",
        "    return modelo"
      ],
      "metadata": {
        "id": "k4eUIxoVwCvu"
      },
      "execution_count": null,
      "outputs": []
    },
    {
      "cell_type": "markdown",
      "source": [
        "## CONSTRUCCION DEL MODELO\n",
        "La etapa de construccion del modelo consta de varios pasos:\n",
        "- Transformaciones de variables:\n",
        "\n",
        "  Como se explico anteriormente el proceso que sigue este, es la extraccion de correlaciones para realizar transformaciones optimas de las variables del modelo en relacion a la variable a imputar.\n",
        "- Segmentacion de los datos:\n",
        "\n",
        "  Este proceso consiste en separar los conjuntos de datos de entrenamiento y testeo, esto se hace por medio de la funcion Kfold, que permite realizar un validacion cruzada, obteniendo de esta 5 disitintos modelos, es decir un 5-fold, esto da como resultado una proporcion 80% a 20% entre los datos de entrenamiento y testeo.\n",
        "- Normalizacion de los datos:\n",
        "\n",
        "  Se genera una normalizacion de los datos de entrenamiento, con la intencion del que modelo converja a una solucion mas optima en un menor tiempo.\n",
        "- Construccion del modelo:\n",
        "\n",
        "  Esto se realiza por medio de la funcion anteriormente construida \"Restrictionsbuild_linear_model_bayesian\". Que permite la construccion de un modelo basado en la variable de interes tomando como parametros, dicha variable de interes, sus variables de entrada transformadas asociadas, y el prior de dicha variable de interes.\n",
        "\n",
        "Finalmente se hace un guardado de los modelos y los datos asociados a este para su posterior entrenamiento."
      ],
      "metadata": {
        "id": "m9-OzVNdwWHo"
      }
    },
    {
      "cell_type": "code",
      "source": [
        "k=5 # 5-fold\n",
        "kf = KFold(n_splits = k)\n",
        "#variables de guardar los modelos definidos\n",
        "modelos = {} #save del modelo\n",
        "data_train = {} #save de datos de entrenamiento\n",
        "data_test = {} #save de datos de testeo\n",
        "for datos in data[data.columns[3:]]: # For que permite abarcar todas las variables de interes a imputar\n",
        "  output, inputs = make_transformations(data, datos) # tranformacion por variable\n",
        "  #save temporales\n",
        "  modelos_fold = {}\n",
        "  data_train_fold = {}\n",
        "  data_test_fold = {}\n",
        "  trazados_fold = {}\n",
        "  j=1\n",
        "  print(datos)\n",
        "  for train_index, test_index in kf.split(inputs): # se genera el fold\n",
        "    print('Fold #',j,'para el parametro', datos)\n",
        "    x_train, x_test = np.asarray(inputs)[train_index], np.asarray(inputs)[test_index] #particiones para x (entradas)\n",
        "    y_train, y_test = np.asarray(output)[train_index], np.asarray(output)[test_index] #particiones para y (salida)\n",
        "    print(x_train.shape)\n",
        "    #Normalizacion\n",
        "    x_mean = np.mean(x_train, axis = 0)\n",
        "    x_std = np.std(x_train, axis = 0)\n",
        "    y_mean = np.mean(y_train)\n",
        "    y_std = np.std(y_train)\n",
        "    X_train = (x_train-x_mean)/(x_std)\n",
        "    Y_train = (y_train-y_mean)/(y_std)\n",
        "    X_train[:,1] = x_train[:,1]\n",
        "    X_test = (x_test-x_mean)/(x_std)\n",
        "    X_test[:,1] = x_test[:,1]\n",
        "    Y_test = (y_test-y_mean)/(y_std)\n",
        "    model = build_linear_model_bayesian(X_train,Y_train,datos,inputs,priori_x_grids,priori_y_grids) # Deficion del modelo por variable y por fold\n",
        "    modelos_fold[f'modelo_fold_{j}'] = model\n",
        "    data_train_fold[f'train_fold_{j}'] = {'x_train':X_train, 'y_train':Y_train, 'y_mean':y_mean, 'y_std':y_std, 'x_mean':x_mean, 'x_std':x_std}\n",
        "    data_test_fold[f'test_fold_{j}'] = {'x_test':X_test, 'y_test':y_test}\n",
        "    j = j+1\n",
        "  modelos[f'modelo_{datos}'] = modelos_fold\n",
        "  data_train[f'data_train_{datos}'] = data_train_fold\n",
        "  data_test[f'data_test_{datos}'] = data_test_fold"
      ],
      "metadata": {
        "id": "3GmBuU-twfs4"
      },
      "execution_count": null,
      "outputs": []
    },
    {
      "cell_type": "markdown",
      "source": [
        "### INFERENCIA (ENTRENAMIENTO)\n",
        "La etapa de entrenamiento, mas especificamente de inferencia bayesiana es realizada a travez de la funcion sample de la libreria Pymc.\n",
        "Esta funcion permite generar un trazado de las distribuciones posteriores de los parametros del modelo, por medio de MCMC. Esta funcion recibe como parametetros:\n",
        "- draws: Que indica el numero muestras extraidas o \"dibujos\" tomados de la distribucion.\n",
        "- tune: Es el numero de muestras que toma la funcion antes de iniciar la inferencia para un mejor ajuste y convergencia.\n",
        "- chains: Es el numero de cadenas que va inferir la funcion.\n",
        "\n",
        "Por ultimo se guarda las distribuciones de los parametros inferidos."
      ],
      "metadata": {
        "id": "W0yfQUxvwgOz"
      }
    },
    {
      "cell_type": "code",
      "source": [
        "draws = 1000 # se generan 1000 draws por modelo\n",
        "tune = 500 # se generan 500 muestras de tuneado\n",
        "chains = 5 # se generan 5 cadenas\n",
        "trazados_data = {} #save del trazado\n",
        "for datos in data[data.columns[3:]]: # se genera la inferencia para cada variable\n",
        "  print(datos)\n",
        "  trazados_fold = {}\n",
        "  for i in range(1,6): # se abarcan cada modelo construido para cada fold para cada variable\n",
        "    with modelos[f'modelo_{datos}'][f'modelo_fold_{i}']:\n",
        "      trace = pm.sample(draws = draws, tune = tune, chains = chains, cores = 4) # se genera la inferencia por medio de pm.sample\n",
        "    trazados_fold[f'trace_fold{i}'] = trace #save de trazados por fold\n",
        "  trazados_data[f'trace_{datos}'] = trazados_fold # save de trazados por variables"
      ],
      "metadata": {
        "id": "x85xlQZ3wo96",
        "colab": {
          "base_uri": "https://localhost:8080/",
          "height": 1000
        },
        "outputId": "b4bfad08-0de9-454b-f114-6b17681595dd"
      },
      "execution_count": null,
      "outputs": [
        {
          "output_type": "stream",
          "name": "stdout",
          "text": [
            "Band_gap\n"
          ]
        },
        {
          "output_type": "display_data",
          "data": {
            "text/plain": [
              "<IPython.core.display.HTML object>"
            ],
            "text/html": [
              "\n",
              "<style>\n",
              "    /* Turns off some styling */\n",
              "    progress {\n",
              "        /* gets rid of default border in Firefox and Opera. */\n",
              "        border: none;\n",
              "        /* Needs to be in here for Safari polyfill so background images work as expected. */\n",
              "        background-size: auto;\n",
              "    }\n",
              "    progress:not([value]), progress:not([value])::-webkit-progress-bar {\n",
              "        background: repeating-linear-gradient(45deg, #7e7e7e, #7e7e7e 10px, #5c5c5c 10px, #5c5c5c 20px);\n",
              "    }\n",
              "    .progress-bar-interrupted, .progress-bar-interrupted::-webkit-progress-bar {\n",
              "        background: #F44336;\n",
              "    }\n",
              "</style>\n"
            ]
          },
          "metadata": {}
        },
        {
          "output_type": "display_data",
          "data": {
            "text/plain": [
              "<IPython.core.display.HTML object>"
            ],
            "text/html": [
              "\n",
              "    <div>\n",
              "      <progress value='7500' class='' max='7500' style='width:300px; height:20px; vertical-align: middle;'></progress>\n",
              "      100.00% [7500/7500 01:47&lt;00:00 Sampling 5 chains, 0 divergences]\n",
              "    </div>\n",
              "    "
            ]
          },
          "metadata": {}
        },
        {
          "output_type": "display_data",
          "data": {
            "text/plain": [
              "<IPython.core.display.HTML object>"
            ],
            "text/html": [
              "\n",
              "<style>\n",
              "    /* Turns off some styling */\n",
              "    progress {\n",
              "        /* gets rid of default border in Firefox and Opera. */\n",
              "        border: none;\n",
              "        /* Needs to be in here for Safari polyfill so background images work as expected. */\n",
              "        background-size: auto;\n",
              "    }\n",
              "    progress:not([value]), progress:not([value])::-webkit-progress-bar {\n",
              "        background: repeating-linear-gradient(45deg, #7e7e7e, #7e7e7e 10px, #5c5c5c 10px, #5c5c5c 20px);\n",
              "    }\n",
              "    .progress-bar-interrupted, .progress-bar-interrupted::-webkit-progress-bar {\n",
              "        background: #F44336;\n",
              "    }\n",
              "</style>\n"
            ]
          },
          "metadata": {}
        },
        {
          "output_type": "display_data",
          "data": {
            "text/plain": [
              "<IPython.core.display.HTML object>"
            ],
            "text/html": [
              "\n",
              "    <div>\n",
              "      <progress value='7500' class='' max='7500' style='width:300px; height:20px; vertical-align: middle;'></progress>\n",
              "      100.00% [7500/7500 01:41&lt;00:00 Sampling 5 chains, 0 divergences]\n",
              "    </div>\n",
              "    "
            ]
          },
          "metadata": {}
        },
        {
          "output_type": "stream",
          "name": "stderr",
          "text": [
            "ERROR:pymc.stats.convergence:The effective sample size per chain is smaller than 100 for some parameters.  A higher number is needed for reliable rhat and ess computation. See https://arxiv.org/abs/1903.08008 for details\n"
          ]
        },
        {
          "output_type": "display_data",
          "data": {
            "text/plain": [
              "<IPython.core.display.HTML object>"
            ],
            "text/html": [
              "\n",
              "<style>\n",
              "    /* Turns off some styling */\n",
              "    progress {\n",
              "        /* gets rid of default border in Firefox and Opera. */\n",
              "        border: none;\n",
              "        /* Needs to be in here for Safari polyfill so background images work as expected. */\n",
              "        background-size: auto;\n",
              "    }\n",
              "    progress:not([value]), progress:not([value])::-webkit-progress-bar {\n",
              "        background: repeating-linear-gradient(45deg, #7e7e7e, #7e7e7e 10px, #5c5c5c 10px, #5c5c5c 20px);\n",
              "    }\n",
              "    .progress-bar-interrupted, .progress-bar-interrupted::-webkit-progress-bar {\n",
              "        background: #F44336;\n",
              "    }\n",
              "</style>\n"
            ]
          },
          "metadata": {}
        },
        {
          "output_type": "display_data",
          "data": {
            "text/plain": [
              "<IPython.core.display.HTML object>"
            ],
            "text/html": [
              "\n",
              "    <div>\n",
              "      <progress value='7500' class='' max='7500' style='width:300px; height:20px; vertical-align: middle;'></progress>\n",
              "      100.00% [7500/7500 01:42&lt;00:00 Sampling 5 chains, 0 divergences]\n",
              "    </div>\n",
              "    "
            ]
          },
          "metadata": {}
        },
        {
          "output_type": "display_data",
          "data": {
            "text/plain": [
              "<IPython.core.display.HTML object>"
            ],
            "text/html": [
              "\n",
              "<style>\n",
              "    /* Turns off some styling */\n",
              "    progress {\n",
              "        /* gets rid of default border in Firefox and Opera. */\n",
              "        border: none;\n",
              "        /* Needs to be in here for Safari polyfill so background images work as expected. */\n",
              "        background-size: auto;\n",
              "    }\n",
              "    progress:not([value]), progress:not([value])::-webkit-progress-bar {\n",
              "        background: repeating-linear-gradient(45deg, #7e7e7e, #7e7e7e 10px, #5c5c5c 10px, #5c5c5c 20px);\n",
              "    }\n",
              "    .progress-bar-interrupted, .progress-bar-interrupted::-webkit-progress-bar {\n",
              "        background: #F44336;\n",
              "    }\n",
              "</style>\n"
            ]
          },
          "metadata": {}
        },
        {
          "output_type": "display_data",
          "data": {
            "text/plain": [
              "<IPython.core.display.HTML object>"
            ],
            "text/html": [
              "\n",
              "    <div>\n",
              "      <progress value='7500' class='' max='7500' style='width:300px; height:20px; vertical-align: middle;'></progress>\n",
              "      100.00% [7500/7500 01:48&lt;00:00 Sampling 5 chains, 0 divergences]\n",
              "    </div>\n",
              "    "
            ]
          },
          "metadata": {}
        },
        {
          "output_type": "display_data",
          "data": {
            "text/plain": [
              "<IPython.core.display.HTML object>"
            ],
            "text/html": [
              "\n",
              "<style>\n",
              "    /* Turns off some styling */\n",
              "    progress {\n",
              "        /* gets rid of default border in Firefox and Opera. */\n",
              "        border: none;\n",
              "        /* Needs to be in here for Safari polyfill so background images work as expected. */\n",
              "        background-size: auto;\n",
              "    }\n",
              "    progress:not([value]), progress:not([value])::-webkit-progress-bar {\n",
              "        background: repeating-linear-gradient(45deg, #7e7e7e, #7e7e7e 10px, #5c5c5c 10px, #5c5c5c 20px);\n",
              "    }\n",
              "    .progress-bar-interrupted, .progress-bar-interrupted::-webkit-progress-bar {\n",
              "        background: #F44336;\n",
              "    }\n",
              "</style>\n"
            ]
          },
          "metadata": {}
        },
        {
          "output_type": "display_data",
          "data": {
            "text/plain": [
              "<IPython.core.display.HTML object>"
            ],
            "text/html": [
              "\n",
              "    <div>\n",
              "      <progress value='7500' class='' max='7500' style='width:300px; height:20px; vertical-align: middle;'></progress>\n",
              "      100.00% [7500/7500 03:02&lt;00:00 Sampling 5 chains, 1 divergences]\n",
              "    </div>\n",
              "    "
            ]
          },
          "metadata": {}
        },
        {
          "output_type": "stream",
          "name": "stderr",
          "text": [
            "ERROR:pymc.stats.convergence:There were 1 divergences after tuning. Increase `target_accept` or reparameterize.\n"
          ]
        },
        {
          "output_type": "stream",
          "name": "stdout",
          "text": [
            "DeltaH\n"
          ]
        },
        {
          "output_type": "display_data",
          "data": {
            "text/plain": [
              "<IPython.core.display.HTML object>"
            ],
            "text/html": [
              "\n",
              "<style>\n",
              "    /* Turns off some styling */\n",
              "    progress {\n",
              "        /* gets rid of default border in Firefox and Opera. */\n",
              "        border: none;\n",
              "        /* Needs to be in here for Safari polyfill so background images work as expected. */\n",
              "        background-size: auto;\n",
              "    }\n",
              "    progress:not([value]), progress:not([value])::-webkit-progress-bar {\n",
              "        background: repeating-linear-gradient(45deg, #7e7e7e, #7e7e7e 10px, #5c5c5c 10px, #5c5c5c 20px);\n",
              "    }\n",
              "    .progress-bar-interrupted, .progress-bar-interrupted::-webkit-progress-bar {\n",
              "        background: #F44336;\n",
              "    }\n",
              "</style>\n"
            ]
          },
          "metadata": {}
        },
        {
          "output_type": "display_data",
          "data": {
            "text/plain": [
              "<IPython.core.display.HTML object>"
            ],
            "text/html": [
              "\n",
              "    <div>\n",
              "      <progress value='7500' class='' max='7500' style='width:300px; height:20px; vertical-align: middle;'></progress>\n",
              "      100.00% [7500/7500 01:38&lt;00:00 Sampling 5 chains, 0 divergences]\n",
              "    </div>\n",
              "    "
            ]
          },
          "metadata": {}
        },
        {
          "output_type": "display_data",
          "data": {
            "text/plain": [
              "<IPython.core.display.HTML object>"
            ],
            "text/html": [
              "\n",
              "<style>\n",
              "    /* Turns off some styling */\n",
              "    progress {\n",
              "        /* gets rid of default border in Firefox and Opera. */\n",
              "        border: none;\n",
              "        /* Needs to be in here for Safari polyfill so background images work as expected. */\n",
              "        background-size: auto;\n",
              "    }\n",
              "    progress:not([value]), progress:not([value])::-webkit-progress-bar {\n",
              "        background: repeating-linear-gradient(45deg, #7e7e7e, #7e7e7e 10px, #5c5c5c 10px, #5c5c5c 20px);\n",
              "    }\n",
              "    .progress-bar-interrupted, .progress-bar-interrupted::-webkit-progress-bar {\n",
              "        background: #F44336;\n",
              "    }\n",
              "</style>\n"
            ]
          },
          "metadata": {}
        },
        {
          "output_type": "display_data",
          "data": {
            "text/plain": [
              "<IPython.core.display.HTML object>"
            ],
            "text/html": [
              "\n",
              "    <div>\n",
              "      <progress value='7500' class='' max='7500' style='width:300px; height:20px; vertical-align: middle;'></progress>\n",
              "      100.00% [7500/7500 01:28&lt;00:00 Sampling 5 chains, 0 divergences]\n",
              "    </div>\n",
              "    "
            ]
          },
          "metadata": {}
        },
        {
          "output_type": "display_data",
          "data": {
            "text/plain": [
              "<IPython.core.display.HTML object>"
            ],
            "text/html": [
              "\n",
              "<style>\n",
              "    /* Turns off some styling */\n",
              "    progress {\n",
              "        /* gets rid of default border in Firefox and Opera. */\n",
              "        border: none;\n",
              "        /* Needs to be in here for Safari polyfill so background images work as expected. */\n",
              "        background-size: auto;\n",
              "    }\n",
              "    progress:not([value]), progress:not([value])::-webkit-progress-bar {\n",
              "        background: repeating-linear-gradient(45deg, #7e7e7e, #7e7e7e 10px, #5c5c5c 10px, #5c5c5c 20px);\n",
              "    }\n",
              "    .progress-bar-interrupted, .progress-bar-interrupted::-webkit-progress-bar {\n",
              "        background: #F44336;\n",
              "    }\n",
              "</style>\n"
            ]
          },
          "metadata": {}
        },
        {
          "output_type": "display_data",
          "data": {
            "text/plain": [
              "<IPython.core.display.HTML object>"
            ],
            "text/html": [
              "\n",
              "    <div>\n",
              "      <progress value='7500' class='' max='7500' style='width:300px; height:20px; vertical-align: middle;'></progress>\n",
              "      100.00% [7500/7500 01:29&lt;00:00 Sampling 5 chains, 0 divergences]\n",
              "    </div>\n",
              "    "
            ]
          },
          "metadata": {}
        },
        {
          "output_type": "display_data",
          "data": {
            "text/plain": [
              "<IPython.core.display.HTML object>"
            ],
            "text/html": [
              "\n",
              "<style>\n",
              "    /* Turns off some styling */\n",
              "    progress {\n",
              "        /* gets rid of default border in Firefox and Opera. */\n",
              "        border: none;\n",
              "        /* Needs to be in here for Safari polyfill so background images work as expected. */\n",
              "        background-size: auto;\n",
              "    }\n",
              "    progress:not([value]), progress:not([value])::-webkit-progress-bar {\n",
              "        background: repeating-linear-gradient(45deg, #7e7e7e, #7e7e7e 10px, #5c5c5c 10px, #5c5c5c 20px);\n",
              "    }\n",
              "    .progress-bar-interrupted, .progress-bar-interrupted::-webkit-progress-bar {\n",
              "        background: #F44336;\n",
              "    }\n",
              "</style>\n"
            ]
          },
          "metadata": {}
        },
        {
          "output_type": "display_data",
          "data": {
            "text/plain": [
              "<IPython.core.display.HTML object>"
            ],
            "text/html": [
              "\n",
              "    <div>\n",
              "      <progress value='7500' class='' max='7500' style='width:300px; height:20px; vertical-align: middle;'></progress>\n",
              "      100.00% [7500/7500 01:35&lt;00:00 Sampling 5 chains, 0 divergences]\n",
              "    </div>\n",
              "    "
            ]
          },
          "metadata": {}
        },
        {
          "output_type": "display_data",
          "data": {
            "text/plain": [
              "<IPython.core.display.HTML object>"
            ],
            "text/html": [
              "\n",
              "<style>\n",
              "    /* Turns off some styling */\n",
              "    progress {\n",
              "        /* gets rid of default border in Firefox and Opera. */\n",
              "        border: none;\n",
              "        /* Needs to be in here for Safari polyfill so background images work as expected. */\n",
              "        background-size: auto;\n",
              "    }\n",
              "    progress:not([value]), progress:not([value])::-webkit-progress-bar {\n",
              "        background: repeating-linear-gradient(45deg, #7e7e7e, #7e7e7e 10px, #5c5c5c 10px, #5c5c5c 20px);\n",
              "    }\n",
              "    .progress-bar-interrupted, .progress-bar-interrupted::-webkit-progress-bar {\n",
              "        background: #F44336;\n",
              "    }\n",
              "</style>\n"
            ]
          },
          "metadata": {}
        },
        {
          "output_type": "display_data",
          "data": {
            "text/plain": [
              "<IPython.core.display.HTML object>"
            ],
            "text/html": [
              "\n",
              "    <div>\n",
              "      <progress value='7500' class='' max='7500' style='width:300px; height:20px; vertical-align: middle;'></progress>\n",
              "      100.00% [7500/7500 01:58&lt;00:00 Sampling 5 chains, 0 divergences]\n",
              "    </div>\n",
              "    "
            ]
          },
          "metadata": {}
        },
        {
          "output_type": "stream",
          "name": "stdout",
          "text": [
            "DeltaL\n"
          ]
        },
        {
          "output_type": "display_data",
          "data": {
            "text/plain": [
              "<IPython.core.display.HTML object>"
            ],
            "text/html": [
              "\n",
              "<style>\n",
              "    /* Turns off some styling */\n",
              "    progress {\n",
              "        /* gets rid of default border in Firefox and Opera. */\n",
              "        border: none;\n",
              "        /* Needs to be in here for Safari polyfill so background images work as expected. */\n",
              "        background-size: auto;\n",
              "    }\n",
              "    progress:not([value]), progress:not([value])::-webkit-progress-bar {\n",
              "        background: repeating-linear-gradient(45deg, #7e7e7e, #7e7e7e 10px, #5c5c5c 10px, #5c5c5c 20px);\n",
              "    }\n",
              "    .progress-bar-interrupted, .progress-bar-interrupted::-webkit-progress-bar {\n",
              "        background: #F44336;\n",
              "    }\n",
              "</style>\n"
            ]
          },
          "metadata": {}
        },
        {
          "output_type": "display_data",
          "data": {
            "text/plain": [
              "<IPython.core.display.HTML object>"
            ],
            "text/html": [
              "\n",
              "    <div>\n",
              "      <progress value='7500' class='' max='7500' style='width:300px; height:20px; vertical-align: middle;'></progress>\n",
              "      100.00% [7500/7500 01:26&lt;00:00 Sampling 5 chains, 0 divergences]\n",
              "    </div>\n",
              "    "
            ]
          },
          "metadata": {}
        },
        {
          "output_type": "display_data",
          "data": {
            "text/plain": [
              "<IPython.core.display.HTML object>"
            ],
            "text/html": [
              "\n",
              "<style>\n",
              "    /* Turns off some styling */\n",
              "    progress {\n",
              "        /* gets rid of default border in Firefox and Opera. */\n",
              "        border: none;\n",
              "        /* Needs to be in here for Safari polyfill so background images work as expected. */\n",
              "        background-size: auto;\n",
              "    }\n",
              "    progress:not([value]), progress:not([value])::-webkit-progress-bar {\n",
              "        background: repeating-linear-gradient(45deg, #7e7e7e, #7e7e7e 10px, #5c5c5c 10px, #5c5c5c 20px);\n",
              "    }\n",
              "    .progress-bar-interrupted, .progress-bar-interrupted::-webkit-progress-bar {\n",
              "        background: #F44336;\n",
              "    }\n",
              "</style>\n"
            ]
          },
          "metadata": {}
        },
        {
          "output_type": "display_data",
          "data": {
            "text/plain": [
              "<IPython.core.display.HTML object>"
            ],
            "text/html": [
              "\n",
              "    <div>\n",
              "      <progress value='7500' class='' max='7500' style='width:300px; height:20px; vertical-align: middle;'></progress>\n",
              "      100.00% [7500/7500 01:20&lt;00:00 Sampling 5 chains, 0 divergences]\n",
              "    </div>\n",
              "    "
            ]
          },
          "metadata": {}
        },
        {
          "output_type": "display_data",
          "data": {
            "text/plain": [
              "<IPython.core.display.HTML object>"
            ],
            "text/html": [
              "\n",
              "<style>\n",
              "    /* Turns off some styling */\n",
              "    progress {\n",
              "        /* gets rid of default border in Firefox and Opera. */\n",
              "        border: none;\n",
              "        /* Needs to be in here for Safari polyfill so background images work as expected. */\n",
              "        background-size: auto;\n",
              "    }\n",
              "    progress:not([value]), progress:not([value])::-webkit-progress-bar {\n",
              "        background: repeating-linear-gradient(45deg, #7e7e7e, #7e7e7e 10px, #5c5c5c 10px, #5c5c5c 20px);\n",
              "    }\n",
              "    .progress-bar-interrupted, .progress-bar-interrupted::-webkit-progress-bar {\n",
              "        background: #F44336;\n",
              "    }\n",
              "</style>\n"
            ]
          },
          "metadata": {}
        },
        {
          "output_type": "display_data",
          "data": {
            "text/plain": [
              "<IPython.core.display.HTML object>"
            ],
            "text/html": [
              "\n",
              "    <div>\n",
              "      <progress value='7500' class='' max='7500' style='width:300px; height:20px; vertical-align: middle;'></progress>\n",
              "      100.00% [7500/7500 01:27&lt;00:00 Sampling 5 chains, 0 divergences]\n",
              "    </div>\n",
              "    "
            ]
          },
          "metadata": {}
        },
        {
          "output_type": "display_data",
          "data": {
            "text/plain": [
              "<IPython.core.display.HTML object>"
            ],
            "text/html": [
              "\n",
              "<style>\n",
              "    /* Turns off some styling */\n",
              "    progress {\n",
              "        /* gets rid of default border in Firefox and Opera. */\n",
              "        border: none;\n",
              "        /* Needs to be in here for Safari polyfill so background images work as expected. */\n",
              "        background-size: auto;\n",
              "    }\n",
              "    progress:not([value]), progress:not([value])::-webkit-progress-bar {\n",
              "        background: repeating-linear-gradient(45deg, #7e7e7e, #7e7e7e 10px, #5c5c5c 10px, #5c5c5c 20px);\n",
              "    }\n",
              "    .progress-bar-interrupted, .progress-bar-interrupted::-webkit-progress-bar {\n",
              "        background: #F44336;\n",
              "    }\n",
              "</style>\n"
            ]
          },
          "metadata": {}
        },
        {
          "output_type": "display_data",
          "data": {
            "text/plain": [
              "<IPython.core.display.HTML object>"
            ],
            "text/html": [
              "\n",
              "    <div>\n",
              "      <progress value='7500' class='' max='7500' style='width:300px; height:20px; vertical-align: middle;'></progress>\n",
              "      100.00% [7500/7500 01:26&lt;00:00 Sampling 5 chains, 0 divergences]\n",
              "    </div>\n",
              "    "
            ]
          },
          "metadata": {}
        },
        {
          "output_type": "display_data",
          "data": {
            "text/plain": [
              "<IPython.core.display.HTML object>"
            ],
            "text/html": [
              "\n",
              "<style>\n",
              "    /* Turns off some styling */\n",
              "    progress {\n",
              "        /* gets rid of default border in Firefox and Opera. */\n",
              "        border: none;\n",
              "        /* Needs to be in here for Safari polyfill so background images work as expected. */\n",
              "        background-size: auto;\n",
              "    }\n",
              "    progress:not([value]), progress:not([value])::-webkit-progress-bar {\n",
              "        background: repeating-linear-gradient(45deg, #7e7e7e, #7e7e7e 10px, #5c5c5c 10px, #5c5c5c 20px);\n",
              "    }\n",
              "    .progress-bar-interrupted, .progress-bar-interrupted::-webkit-progress-bar {\n",
              "        background: #F44336;\n",
              "    }\n",
              "</style>\n"
            ]
          },
          "metadata": {}
        },
        {
          "output_type": "display_data",
          "data": {
            "text/plain": [
              "<IPython.core.display.HTML object>"
            ],
            "text/html": [
              "\n",
              "    <div>\n",
              "      <progress value='7500' class='' max='7500' style='width:300px; height:20px; vertical-align: middle;'></progress>\n",
              "      100.00% [7500/7500 01:42&lt;00:00 Sampling 5 chains, 0 divergences]\n",
              "    </div>\n",
              "    "
            ]
          },
          "metadata": {}
        },
        {
          "output_type": "stream",
          "name": "stdout",
          "text": [
            "Grain_size\n"
          ]
        },
        {
          "output_type": "display_data",
          "data": {
            "text/plain": [
              "<IPython.core.display.HTML object>"
            ],
            "text/html": [
              "\n",
              "<style>\n",
              "    /* Turns off some styling */\n",
              "    progress {\n",
              "        /* gets rid of default border in Firefox and Opera. */\n",
              "        border: none;\n",
              "        /* Needs to be in here for Safari polyfill so background images work as expected. */\n",
              "        background-size: auto;\n",
              "    }\n",
              "    progress:not([value]), progress:not([value])::-webkit-progress-bar {\n",
              "        background: repeating-linear-gradient(45deg, #7e7e7e, #7e7e7e 10px, #5c5c5c 10px, #5c5c5c 20px);\n",
              "    }\n",
              "    .progress-bar-interrupted, .progress-bar-interrupted::-webkit-progress-bar {\n",
              "        background: #F44336;\n",
              "    }\n",
              "</style>\n"
            ]
          },
          "metadata": {}
        },
        {
          "output_type": "display_data",
          "data": {
            "text/plain": [
              "<IPython.core.display.HTML object>"
            ],
            "text/html": [
              "\n",
              "    <div>\n",
              "      <progress value='7500' class='' max='7500' style='width:300px; height:20px; vertical-align: middle;'></progress>\n",
              "      100.00% [7500/7500 01:24&lt;00:00 Sampling 5 chains, 0 divergences]\n",
              "    </div>\n",
              "    "
            ]
          },
          "metadata": {}
        },
        {
          "output_type": "display_data",
          "data": {
            "text/plain": [
              "<IPython.core.display.HTML object>"
            ],
            "text/html": [
              "\n",
              "<style>\n",
              "    /* Turns off some styling */\n",
              "    progress {\n",
              "        /* gets rid of default border in Firefox and Opera. */\n",
              "        border: none;\n",
              "        /* Needs to be in here for Safari polyfill so background images work as expected. */\n",
              "        background-size: auto;\n",
              "    }\n",
              "    progress:not([value]), progress:not([value])::-webkit-progress-bar {\n",
              "        background: repeating-linear-gradient(45deg, #7e7e7e, #7e7e7e 10px, #5c5c5c 10px, #5c5c5c 20px);\n",
              "    }\n",
              "    .progress-bar-interrupted, .progress-bar-interrupted::-webkit-progress-bar {\n",
              "        background: #F44336;\n",
              "    }\n",
              "</style>\n"
            ]
          },
          "metadata": {}
        },
        {
          "output_type": "display_data",
          "data": {
            "text/plain": [
              "<IPython.core.display.HTML object>"
            ],
            "text/html": [
              "\n",
              "    <div>\n",
              "      <progress value='7500' class='' max='7500' style='width:300px; height:20px; vertical-align: middle;'></progress>\n",
              "      100.00% [7500/7500 01:22&lt;00:00 Sampling 5 chains, 0 divergences]\n",
              "    </div>\n",
              "    "
            ]
          },
          "metadata": {}
        },
        {
          "output_type": "display_data",
          "data": {
            "text/plain": [
              "<IPython.core.display.HTML object>"
            ],
            "text/html": [
              "\n",
              "<style>\n",
              "    /* Turns off some styling */\n",
              "    progress {\n",
              "        /* gets rid of default border in Firefox and Opera. */\n",
              "        border: none;\n",
              "        /* Needs to be in here for Safari polyfill so background images work as expected. */\n",
              "        background-size: auto;\n",
              "    }\n",
              "    progress:not([value]), progress:not([value])::-webkit-progress-bar {\n",
              "        background: repeating-linear-gradient(45deg, #7e7e7e, #7e7e7e 10px, #5c5c5c 10px, #5c5c5c 20px);\n",
              "    }\n",
              "    .progress-bar-interrupted, .progress-bar-interrupted::-webkit-progress-bar {\n",
              "        background: #F44336;\n",
              "    }\n",
              "</style>\n"
            ]
          },
          "metadata": {}
        },
        {
          "output_type": "display_data",
          "data": {
            "text/plain": [
              "<IPython.core.display.HTML object>"
            ],
            "text/html": [
              "\n",
              "    <div>\n",
              "      <progress value='7500' class='' max='7500' style='width:300px; height:20px; vertical-align: middle;'></progress>\n",
              "      100.00% [7500/7500 01:27&lt;00:00 Sampling 5 chains, 0 divergences]\n",
              "    </div>\n",
              "    "
            ]
          },
          "metadata": {}
        },
        {
          "output_type": "display_data",
          "data": {
            "text/plain": [
              "<IPython.core.display.HTML object>"
            ],
            "text/html": [
              "\n",
              "<style>\n",
              "    /* Turns off some styling */\n",
              "    progress {\n",
              "        /* gets rid of default border in Firefox and Opera. */\n",
              "        border: none;\n",
              "        /* Needs to be in here for Safari polyfill so background images work as expected. */\n",
              "        background-size: auto;\n",
              "    }\n",
              "    progress:not([value]), progress:not([value])::-webkit-progress-bar {\n",
              "        background: repeating-linear-gradient(45deg, #7e7e7e, #7e7e7e 10px, #5c5c5c 10px, #5c5c5c 20px);\n",
              "    }\n",
              "    .progress-bar-interrupted, .progress-bar-interrupted::-webkit-progress-bar {\n",
              "        background: #F44336;\n",
              "    }\n",
              "</style>\n"
            ]
          },
          "metadata": {}
        },
        {
          "output_type": "display_data",
          "data": {
            "text/plain": [
              "<IPython.core.display.HTML object>"
            ],
            "text/html": [
              "\n",
              "    <div>\n",
              "      <progress value='7500' class='' max='7500' style='width:300px; height:20px; vertical-align: middle;'></progress>\n",
              "      100.00% [7500/7500 01:34&lt;00:00 Sampling 5 chains, 0 divergences]\n",
              "    </div>\n",
              "    "
            ]
          },
          "metadata": {}
        },
        {
          "output_type": "display_data",
          "data": {
            "text/plain": [
              "<IPython.core.display.HTML object>"
            ],
            "text/html": [
              "\n",
              "<style>\n",
              "    /* Turns off some styling */\n",
              "    progress {\n",
              "        /* gets rid of default border in Firefox and Opera. */\n",
              "        border: none;\n",
              "        /* Needs to be in here for Safari polyfill so background images work as expected. */\n",
              "        background-size: auto;\n",
              "    }\n",
              "    progress:not([value]), progress:not([value])::-webkit-progress-bar {\n",
              "        background: repeating-linear-gradient(45deg, #7e7e7e, #7e7e7e 10px, #5c5c5c 10px, #5c5c5c 20px);\n",
              "    }\n",
              "    .progress-bar-interrupted, .progress-bar-interrupted::-webkit-progress-bar {\n",
              "        background: #F44336;\n",
              "    }\n",
              "</style>\n"
            ]
          },
          "metadata": {}
        },
        {
          "output_type": "display_data",
          "data": {
            "text/plain": [
              "<IPython.core.display.HTML object>"
            ],
            "text/html": [
              "\n",
              "    <div>\n",
              "      <progress value='7500' class='' max='7500' style='width:300px; height:20px; vertical-align: middle;'></progress>\n",
              "      100.00% [7500/7500 02:00&lt;00:00 Sampling 5 chains, 0 divergences]\n",
              "    </div>\n",
              "    "
            ]
          },
          "metadata": {}
        },
        {
          "output_type": "stream",
          "name": "stdout",
          "text": [
            "Thickness\n"
          ]
        },
        {
          "output_type": "display_data",
          "data": {
            "text/plain": [
              "<IPython.core.display.HTML object>"
            ],
            "text/html": [
              "\n",
              "<style>\n",
              "    /* Turns off some styling */\n",
              "    progress {\n",
              "        /* gets rid of default border in Firefox and Opera. */\n",
              "        border: none;\n",
              "        /* Needs to be in here for Safari polyfill so background images work as expected. */\n",
              "        background-size: auto;\n",
              "    }\n",
              "    progress:not([value]), progress:not([value])::-webkit-progress-bar {\n",
              "        background: repeating-linear-gradient(45deg, #7e7e7e, #7e7e7e 10px, #5c5c5c 10px, #5c5c5c 20px);\n",
              "    }\n",
              "    .progress-bar-interrupted, .progress-bar-interrupted::-webkit-progress-bar {\n",
              "        background: #F44336;\n",
              "    }\n",
              "</style>\n"
            ]
          },
          "metadata": {}
        },
        {
          "output_type": "display_data",
          "data": {
            "text/plain": [
              "<IPython.core.display.HTML object>"
            ],
            "text/html": [
              "\n",
              "    <div>\n",
              "      <progress value='7500' class='' max='7500' style='width:300px; height:20px; vertical-align: middle;'></progress>\n",
              "      100.00% [7500/7500 01:33&lt;00:00 Sampling 5 chains, 0 divergences]\n",
              "    </div>\n",
              "    "
            ]
          },
          "metadata": {}
        },
        {
          "output_type": "display_data",
          "data": {
            "text/plain": [
              "<IPython.core.display.HTML object>"
            ],
            "text/html": [
              "\n",
              "<style>\n",
              "    /* Turns off some styling */\n",
              "    progress {\n",
              "        /* gets rid of default border in Firefox and Opera. */\n",
              "        border: none;\n",
              "        /* Needs to be in here for Safari polyfill so background images work as expected. */\n",
              "        background-size: auto;\n",
              "    }\n",
              "    progress:not([value]), progress:not([value])::-webkit-progress-bar {\n",
              "        background: repeating-linear-gradient(45deg, #7e7e7e, #7e7e7e 10px, #5c5c5c 10px, #5c5c5c 20px);\n",
              "    }\n",
              "    .progress-bar-interrupted, .progress-bar-interrupted::-webkit-progress-bar {\n",
              "        background: #F44336;\n",
              "    }\n",
              "</style>\n"
            ]
          },
          "metadata": {}
        },
        {
          "output_type": "display_data",
          "data": {
            "text/plain": [
              "<IPython.core.display.HTML object>"
            ],
            "text/html": [
              "\n",
              "    <div>\n",
              "      <progress value='7500' class='' max='7500' style='width:300px; height:20px; vertical-align: middle;'></progress>\n",
              "      100.00% [7500/7500 01:27&lt;00:00 Sampling 5 chains, 0 divergences]\n",
              "    </div>\n",
              "    "
            ]
          },
          "metadata": {}
        },
        {
          "output_type": "display_data",
          "data": {
            "text/plain": [
              "<IPython.core.display.HTML object>"
            ],
            "text/html": [
              "\n",
              "<style>\n",
              "    /* Turns off some styling */\n",
              "    progress {\n",
              "        /* gets rid of default border in Firefox and Opera. */\n",
              "        border: none;\n",
              "        /* Needs to be in here for Safari polyfill so background images work as expected. */\n",
              "        background-size: auto;\n",
              "    }\n",
              "    progress:not([value]), progress:not([value])::-webkit-progress-bar {\n",
              "        background: repeating-linear-gradient(45deg, #7e7e7e, #7e7e7e 10px, #5c5c5c 10px, #5c5c5c 20px);\n",
              "    }\n",
              "    .progress-bar-interrupted, .progress-bar-interrupted::-webkit-progress-bar {\n",
              "        background: #F44336;\n",
              "    }\n",
              "</style>\n"
            ]
          },
          "metadata": {}
        },
        {
          "output_type": "display_data",
          "data": {
            "text/plain": [
              "<IPython.core.display.HTML object>"
            ],
            "text/html": [
              "\n",
              "    <div>\n",
              "      <progress value='7500' class='' max='7500' style='width:300px; height:20px; vertical-align: middle;'></progress>\n",
              "      100.00% [7500/7500 01:26&lt;00:00 Sampling 5 chains, 0 divergences]\n",
              "    </div>\n",
              "    "
            ]
          },
          "metadata": {}
        },
        {
          "output_type": "display_data",
          "data": {
            "text/plain": [
              "<IPython.core.display.HTML object>"
            ],
            "text/html": [
              "\n",
              "<style>\n",
              "    /* Turns off some styling */\n",
              "    progress {\n",
              "        /* gets rid of default border in Firefox and Opera. */\n",
              "        border: none;\n",
              "        /* Needs to be in here for Safari polyfill so background images work as expected. */\n",
              "        background-size: auto;\n",
              "    }\n",
              "    progress:not([value]), progress:not([value])::-webkit-progress-bar {\n",
              "        background: repeating-linear-gradient(45deg, #7e7e7e, #7e7e7e 10px, #5c5c5c 10px, #5c5c5c 20px);\n",
              "    }\n",
              "    .progress-bar-interrupted, .progress-bar-interrupted::-webkit-progress-bar {\n",
              "        background: #F44336;\n",
              "    }\n",
              "</style>\n"
            ]
          },
          "metadata": {}
        },
        {
          "output_type": "display_data",
          "data": {
            "text/plain": [
              "<IPython.core.display.HTML object>"
            ],
            "text/html": [
              "\n",
              "    <div>\n",
              "      <progress value='7500' class='' max='7500' style='width:300px; height:20px; vertical-align: middle;'></progress>\n",
              "      100.00% [7500/7500 01:32&lt;00:00 Sampling 5 chains, 0 divergences]\n",
              "    </div>\n",
              "    "
            ]
          },
          "metadata": {}
        },
        {
          "output_type": "display_data",
          "data": {
            "text/plain": [
              "<IPython.core.display.HTML object>"
            ],
            "text/html": [
              "\n",
              "<style>\n",
              "    /* Turns off some styling */\n",
              "    progress {\n",
              "        /* gets rid of default border in Firefox and Opera. */\n",
              "        border: none;\n",
              "        /* Needs to be in here for Safari polyfill so background images work as expected. */\n",
              "        background-size: auto;\n",
              "    }\n",
              "    progress:not([value]), progress:not([value])::-webkit-progress-bar {\n",
              "        background: repeating-linear-gradient(45deg, #7e7e7e, #7e7e7e 10px, #5c5c5c 10px, #5c5c5c 20px);\n",
              "    }\n",
              "    .progress-bar-interrupted, .progress-bar-interrupted::-webkit-progress-bar {\n",
              "        background: #F44336;\n",
              "    }\n",
              "</style>\n"
            ]
          },
          "metadata": {}
        },
        {
          "output_type": "display_data",
          "data": {
            "text/plain": [
              "<IPython.core.display.HTML object>"
            ],
            "text/html": [
              "\n",
              "    <div>\n",
              "      <progress value='7500' class='' max='7500' style='width:300px; height:20px; vertical-align: middle;'></progress>\n",
              "      100.00% [7500/7500 01:58&lt;00:00 Sampling 5 chains, 0 divergences]\n",
              "    </div>\n",
              "    "
            ]
          },
          "metadata": {}
        },
        {
          "output_type": "stream",
          "name": "stdout",
          "text": [
            "PCE\n"
          ]
        },
        {
          "output_type": "display_data",
          "data": {
            "text/plain": [
              "<IPython.core.display.HTML object>"
            ],
            "text/html": [
              "\n",
              "<style>\n",
              "    /* Turns off some styling */\n",
              "    progress {\n",
              "        /* gets rid of default border in Firefox and Opera. */\n",
              "        border: none;\n",
              "        /* Needs to be in here for Safari polyfill so background images work as expected. */\n",
              "        background-size: auto;\n",
              "    }\n",
              "    progress:not([value]), progress:not([value])::-webkit-progress-bar {\n",
              "        background: repeating-linear-gradient(45deg, #7e7e7e, #7e7e7e 10px, #5c5c5c 10px, #5c5c5c 20px);\n",
              "    }\n",
              "    .progress-bar-interrupted, .progress-bar-interrupted::-webkit-progress-bar {\n",
              "        background: #F44336;\n",
              "    }\n",
              "</style>\n"
            ]
          },
          "metadata": {}
        },
        {
          "output_type": "display_data",
          "data": {
            "text/plain": [
              "<IPython.core.display.HTML object>"
            ],
            "text/html": [
              "\n",
              "    <div>\n",
              "      <progress value='7500' class='' max='7500' style='width:300px; height:20px; vertical-align: middle;'></progress>\n",
              "      100.00% [7500/7500 02:45&lt;00:00 Sampling 5 chains, 0 divergences]\n",
              "    </div>\n",
              "    "
            ]
          },
          "metadata": {}
        },
        {
          "output_type": "display_data",
          "data": {
            "text/plain": [
              "<IPython.core.display.HTML object>"
            ],
            "text/html": [
              "\n",
              "<style>\n",
              "    /* Turns off some styling */\n",
              "    progress {\n",
              "        /* gets rid of default border in Firefox and Opera. */\n",
              "        border: none;\n",
              "        /* Needs to be in here for Safari polyfill so background images work as expected. */\n",
              "        background-size: auto;\n",
              "    }\n",
              "    progress:not([value]), progress:not([value])::-webkit-progress-bar {\n",
              "        background: repeating-linear-gradient(45deg, #7e7e7e, #7e7e7e 10px, #5c5c5c 10px, #5c5c5c 20px);\n",
              "    }\n",
              "    .progress-bar-interrupted, .progress-bar-interrupted::-webkit-progress-bar {\n",
              "        background: #F44336;\n",
              "    }\n",
              "</style>\n"
            ]
          },
          "metadata": {}
        },
        {
          "output_type": "display_data",
          "data": {
            "text/plain": [
              "<IPython.core.display.HTML object>"
            ],
            "text/html": [
              "\n",
              "    <div>\n",
              "      <progress value='7500' class='' max='7500' style='width:300px; height:20px; vertical-align: middle;'></progress>\n",
              "      100.00% [7500/7500 02:25&lt;00:00 Sampling 5 chains, 0 divergences]\n",
              "    </div>\n",
              "    "
            ]
          },
          "metadata": {}
        },
        {
          "output_type": "display_data",
          "data": {
            "text/plain": [
              "<IPython.core.display.HTML object>"
            ],
            "text/html": [
              "\n",
              "<style>\n",
              "    /* Turns off some styling */\n",
              "    progress {\n",
              "        /* gets rid of default border in Firefox and Opera. */\n",
              "        border: none;\n",
              "        /* Needs to be in here for Safari polyfill so background images work as expected. */\n",
              "        background-size: auto;\n",
              "    }\n",
              "    progress:not([value]), progress:not([value])::-webkit-progress-bar {\n",
              "        background: repeating-linear-gradient(45deg, #7e7e7e, #7e7e7e 10px, #5c5c5c 10px, #5c5c5c 20px);\n",
              "    }\n",
              "    .progress-bar-interrupted, .progress-bar-interrupted::-webkit-progress-bar {\n",
              "        background: #F44336;\n",
              "    }\n",
              "</style>\n"
            ]
          },
          "metadata": {}
        },
        {
          "output_type": "display_data",
          "data": {
            "text/plain": [
              "<IPython.core.display.HTML object>"
            ],
            "text/html": [
              "\n",
              "    <div>\n",
              "      <progress value='7500' class='' max='7500' style='width:300px; height:20px; vertical-align: middle;'></progress>\n",
              "      100.00% [7500/7500 02:42&lt;00:00 Sampling 5 chains, 0 divergences]\n",
              "    </div>\n",
              "    "
            ]
          },
          "metadata": {}
        },
        {
          "output_type": "display_data",
          "data": {
            "text/plain": [
              "<IPython.core.display.HTML object>"
            ],
            "text/html": [
              "\n",
              "<style>\n",
              "    /* Turns off some styling */\n",
              "    progress {\n",
              "        /* gets rid of default border in Firefox and Opera. */\n",
              "        border: none;\n",
              "        /* Needs to be in here for Safari polyfill so background images work as expected. */\n",
              "        background-size: auto;\n",
              "    }\n",
              "    progress:not([value]), progress:not([value])::-webkit-progress-bar {\n",
              "        background: repeating-linear-gradient(45deg, #7e7e7e, #7e7e7e 10px, #5c5c5c 10px, #5c5c5c 20px);\n",
              "    }\n",
              "    .progress-bar-interrupted, .progress-bar-interrupted::-webkit-progress-bar {\n",
              "        background: #F44336;\n",
              "    }\n",
              "</style>\n"
            ]
          },
          "metadata": {}
        },
        {
          "output_type": "display_data",
          "data": {
            "text/plain": [
              "<IPython.core.display.HTML object>"
            ],
            "text/html": [
              "\n",
              "    <div>\n",
              "      <progress value='7500' class='' max='7500' style='width:300px; height:20px; vertical-align: middle;'></progress>\n",
              "      100.00% [7500/7500 02:48&lt;00:00 Sampling 5 chains, 1 divergences]\n",
              "    </div>\n",
              "    "
            ]
          },
          "metadata": {}
        },
        {
          "output_type": "stream",
          "name": "stderr",
          "text": [
            "ERROR:pymc.stats.convergence:There were 1 divergences after tuning. Increase `target_accept` or reparameterize.\n"
          ]
        },
        {
          "output_type": "display_data",
          "data": {
            "text/plain": [
              "<IPython.core.display.HTML object>"
            ],
            "text/html": [
              "\n",
              "<style>\n",
              "    /* Turns off some styling */\n",
              "    progress {\n",
              "        /* gets rid of default border in Firefox and Opera. */\n",
              "        border: none;\n",
              "        /* Needs to be in here for Safari polyfill so background images work as expected. */\n",
              "        background-size: auto;\n",
              "    }\n",
              "    progress:not([value]), progress:not([value])::-webkit-progress-bar {\n",
              "        background: repeating-linear-gradient(45deg, #7e7e7e, #7e7e7e 10px, #5c5c5c 10px, #5c5c5c 20px);\n",
              "    }\n",
              "    .progress-bar-interrupted, .progress-bar-interrupted::-webkit-progress-bar {\n",
              "        background: #F44336;\n",
              "    }\n",
              "</style>\n"
            ]
          },
          "metadata": {}
        },
        {
          "output_type": "display_data",
          "data": {
            "text/plain": [
              "<IPython.core.display.HTML object>"
            ],
            "text/html": [
              "\n",
              "    <div>\n",
              "      <progress value='7500' class='' max='7500' style='width:300px; height:20px; vertical-align: middle;'></progress>\n",
              "      100.00% [7500/7500 13:10&lt;00:00 Sampling 5 chains, 4 divergences]\n",
              "    </div>\n",
              "    "
            ]
          },
          "metadata": {}
        },
        {
          "output_type": "stream",
          "name": "stderr",
          "text": [
            "ERROR:pymc.stats.convergence:There were 4 divergences after tuning. Increase `target_accept` or reparameterize.\n"
          ]
        },
        {
          "output_type": "stream",
          "name": "stdout",
          "text": [
            "Voc\n"
          ]
        },
        {
          "output_type": "display_data",
          "data": {
            "text/plain": [
              "<IPython.core.display.HTML object>"
            ],
            "text/html": [
              "\n",
              "<style>\n",
              "    /* Turns off some styling */\n",
              "    progress {\n",
              "        /* gets rid of default border in Firefox and Opera. */\n",
              "        border: none;\n",
              "        /* Needs to be in here for Safari polyfill so background images work as expected. */\n",
              "        background-size: auto;\n",
              "    }\n",
              "    progress:not([value]), progress:not([value])::-webkit-progress-bar {\n",
              "        background: repeating-linear-gradient(45deg, #7e7e7e, #7e7e7e 10px, #5c5c5c 10px, #5c5c5c 20px);\n",
              "    }\n",
              "    .progress-bar-interrupted, .progress-bar-interrupted::-webkit-progress-bar {\n",
              "        background: #F44336;\n",
              "    }\n",
              "</style>\n"
            ]
          },
          "metadata": {}
        },
        {
          "output_type": "display_data",
          "data": {
            "text/plain": [
              "<IPython.core.display.HTML object>"
            ],
            "text/html": [
              "\n",
              "    <div>\n",
              "      <progress value='7500' class='' max='7500' style='width:300px; height:20px; vertical-align: middle;'></progress>\n",
              "      100.00% [7500/7500 01:31&lt;00:00 Sampling 5 chains, 0 divergences]\n",
              "    </div>\n",
              "    "
            ]
          },
          "metadata": {}
        },
        {
          "output_type": "display_data",
          "data": {
            "text/plain": [
              "<IPython.core.display.HTML object>"
            ],
            "text/html": [
              "\n",
              "<style>\n",
              "    /* Turns off some styling */\n",
              "    progress {\n",
              "        /* gets rid of default border in Firefox and Opera. */\n",
              "        border: none;\n",
              "        /* Needs to be in here for Safari polyfill so background images work as expected. */\n",
              "        background-size: auto;\n",
              "    }\n",
              "    progress:not([value]), progress:not([value])::-webkit-progress-bar {\n",
              "        background: repeating-linear-gradient(45deg, #7e7e7e, #7e7e7e 10px, #5c5c5c 10px, #5c5c5c 20px);\n",
              "    }\n",
              "    .progress-bar-interrupted, .progress-bar-interrupted::-webkit-progress-bar {\n",
              "        background: #F44336;\n",
              "    }\n",
              "</style>\n"
            ]
          },
          "metadata": {}
        },
        {
          "output_type": "display_data",
          "data": {
            "text/plain": [
              "<IPython.core.display.HTML object>"
            ],
            "text/html": [
              "\n",
              "    <div>\n",
              "      <progress value='7500' class='' max='7500' style='width:300px; height:20px; vertical-align: middle;'></progress>\n",
              "      100.00% [7500/7500 01:20&lt;00:00 Sampling 5 chains, 0 divergences]\n",
              "    </div>\n",
              "    "
            ]
          },
          "metadata": {}
        },
        {
          "output_type": "display_data",
          "data": {
            "text/plain": [
              "<IPython.core.display.HTML object>"
            ],
            "text/html": [
              "\n",
              "<style>\n",
              "    /* Turns off some styling */\n",
              "    progress {\n",
              "        /* gets rid of default border in Firefox and Opera. */\n",
              "        border: none;\n",
              "        /* Needs to be in here for Safari polyfill so background images work as expected. */\n",
              "        background-size: auto;\n",
              "    }\n",
              "    progress:not([value]), progress:not([value])::-webkit-progress-bar {\n",
              "        background: repeating-linear-gradient(45deg, #7e7e7e, #7e7e7e 10px, #5c5c5c 10px, #5c5c5c 20px);\n",
              "    }\n",
              "    .progress-bar-interrupted, .progress-bar-interrupted::-webkit-progress-bar {\n",
              "        background: #F44336;\n",
              "    }\n",
              "</style>\n"
            ]
          },
          "metadata": {}
        },
        {
          "output_type": "display_data",
          "data": {
            "text/plain": [
              "<IPython.core.display.HTML object>"
            ],
            "text/html": [
              "\n",
              "    <div>\n",
              "      <progress value='7500' class='' max='7500' style='width:300px; height:20px; vertical-align: middle;'></progress>\n",
              "      100.00% [7500/7500 01:26&lt;00:00 Sampling 5 chains, 0 divergences]\n",
              "    </div>\n",
              "    "
            ]
          },
          "metadata": {}
        },
        {
          "output_type": "display_data",
          "data": {
            "text/plain": [
              "<IPython.core.display.HTML object>"
            ],
            "text/html": [
              "\n",
              "<style>\n",
              "    /* Turns off some styling */\n",
              "    progress {\n",
              "        /* gets rid of default border in Firefox and Opera. */\n",
              "        border: none;\n",
              "        /* Needs to be in here for Safari polyfill so background images work as expected. */\n",
              "        background-size: auto;\n",
              "    }\n",
              "    progress:not([value]), progress:not([value])::-webkit-progress-bar {\n",
              "        background: repeating-linear-gradient(45deg, #7e7e7e, #7e7e7e 10px, #5c5c5c 10px, #5c5c5c 20px);\n",
              "    }\n",
              "    .progress-bar-interrupted, .progress-bar-interrupted::-webkit-progress-bar {\n",
              "        background: #F44336;\n",
              "    }\n",
              "</style>\n"
            ]
          },
          "metadata": {}
        },
        {
          "output_type": "display_data",
          "data": {
            "text/plain": [
              "<IPython.core.display.HTML object>"
            ],
            "text/html": [
              "\n",
              "    <div>\n",
              "      <progress value='7500' class='' max='7500' style='width:300px; height:20px; vertical-align: middle;'></progress>\n",
              "      100.00% [7500/7500 01:33&lt;00:00 Sampling 5 chains, 0 divergences]\n",
              "    </div>\n",
              "    "
            ]
          },
          "metadata": {}
        },
        {
          "output_type": "display_data",
          "data": {
            "text/plain": [
              "<IPython.core.display.HTML object>"
            ],
            "text/html": [
              "\n",
              "<style>\n",
              "    /* Turns off some styling */\n",
              "    progress {\n",
              "        /* gets rid of default border in Firefox and Opera. */\n",
              "        border: none;\n",
              "        /* Needs to be in here for Safari polyfill so background images work as expected. */\n",
              "        background-size: auto;\n",
              "    }\n",
              "    progress:not([value]), progress:not([value])::-webkit-progress-bar {\n",
              "        background: repeating-linear-gradient(45deg, #7e7e7e, #7e7e7e 10px, #5c5c5c 10px, #5c5c5c 20px);\n",
              "    }\n",
              "    .progress-bar-interrupted, .progress-bar-interrupted::-webkit-progress-bar {\n",
              "        background: #F44336;\n",
              "    }\n",
              "</style>\n"
            ]
          },
          "metadata": {}
        },
        {
          "output_type": "display_data",
          "data": {
            "text/plain": [
              "<IPython.core.display.HTML object>"
            ],
            "text/html": [
              "\n",
              "    <div>\n",
              "      <progress value='7500' class='' max='7500' style='width:300px; height:20px; vertical-align: middle;'></progress>\n",
              "      100.00% [7500/7500 03:52&lt;00:00 Sampling 5 chains, 0 divergences]\n",
              "    </div>\n",
              "    "
            ]
          },
          "metadata": {}
        },
        {
          "output_type": "stream",
          "name": "stdout",
          "text": [
            "Jsc\n"
          ]
        },
        {
          "output_type": "display_data",
          "data": {
            "text/plain": [
              "<IPython.core.display.HTML object>"
            ],
            "text/html": [
              "\n",
              "<style>\n",
              "    /* Turns off some styling */\n",
              "    progress {\n",
              "        /* gets rid of default border in Firefox and Opera. */\n",
              "        border: none;\n",
              "        /* Needs to be in here for Safari polyfill so background images work as expected. */\n",
              "        background-size: auto;\n",
              "    }\n",
              "    progress:not([value]), progress:not([value])::-webkit-progress-bar {\n",
              "        background: repeating-linear-gradient(45deg, #7e7e7e, #7e7e7e 10px, #5c5c5c 10px, #5c5c5c 20px);\n",
              "    }\n",
              "    .progress-bar-interrupted, .progress-bar-interrupted::-webkit-progress-bar {\n",
              "        background: #F44336;\n",
              "    }\n",
              "</style>\n"
            ]
          },
          "metadata": {}
        },
        {
          "output_type": "display_data",
          "data": {
            "text/plain": [
              "<IPython.core.display.HTML object>"
            ],
            "text/html": [
              "\n",
              "    <div>\n",
              "      <progress value='7500' class='' max='7500' style='width:300px; height:20px; vertical-align: middle;'></progress>\n",
              "      100.00% [7500/7500 02:50&lt;00:00 Sampling 5 chains, 0 divergences]\n",
              "    </div>\n",
              "    "
            ]
          },
          "metadata": {}
        },
        {
          "output_type": "display_data",
          "data": {
            "text/plain": [
              "<IPython.core.display.HTML object>"
            ],
            "text/html": [
              "\n",
              "<style>\n",
              "    /* Turns off some styling */\n",
              "    progress {\n",
              "        /* gets rid of default border in Firefox and Opera. */\n",
              "        border: none;\n",
              "        /* Needs to be in here for Safari polyfill so background images work as expected. */\n",
              "        background-size: auto;\n",
              "    }\n",
              "    progress:not([value]), progress:not([value])::-webkit-progress-bar {\n",
              "        background: repeating-linear-gradient(45deg, #7e7e7e, #7e7e7e 10px, #5c5c5c 10px, #5c5c5c 20px);\n",
              "    }\n",
              "    .progress-bar-interrupted, .progress-bar-interrupted::-webkit-progress-bar {\n",
              "        background: #F44336;\n",
              "    }\n",
              "</style>\n"
            ]
          },
          "metadata": {}
        },
        {
          "output_type": "display_data",
          "data": {
            "text/plain": [
              "<IPython.core.display.HTML object>"
            ],
            "text/html": [
              "\n",
              "    <div>\n",
              "      <progress value='7500' class='' max='7500' style='width:300px; height:20px; vertical-align: middle;'></progress>\n",
              "      100.00% [7500/7500 02:30&lt;00:00 Sampling 5 chains, 0 divergences]\n",
              "    </div>\n",
              "    "
            ]
          },
          "metadata": {}
        },
        {
          "output_type": "display_data",
          "data": {
            "text/plain": [
              "<IPython.core.display.HTML object>"
            ],
            "text/html": [
              "\n",
              "<style>\n",
              "    /* Turns off some styling */\n",
              "    progress {\n",
              "        /* gets rid of default border in Firefox and Opera. */\n",
              "        border: none;\n",
              "        /* Needs to be in here for Safari polyfill so background images work as expected. */\n",
              "        background-size: auto;\n",
              "    }\n",
              "    progress:not([value]), progress:not([value])::-webkit-progress-bar {\n",
              "        background: repeating-linear-gradient(45deg, #7e7e7e, #7e7e7e 10px, #5c5c5c 10px, #5c5c5c 20px);\n",
              "    }\n",
              "    .progress-bar-interrupted, .progress-bar-interrupted::-webkit-progress-bar {\n",
              "        background: #F44336;\n",
              "    }\n",
              "</style>\n"
            ]
          },
          "metadata": {}
        },
        {
          "output_type": "display_data",
          "data": {
            "text/plain": [
              "<IPython.core.display.HTML object>"
            ],
            "text/html": [
              "\n",
              "    <div>\n",
              "      <progress value='7500' class='' max='7500' style='width:300px; height:20px; vertical-align: middle;'></progress>\n",
              "      100.00% [7500/7500 02:54&lt;00:00 Sampling 5 chains, 0 divergences]\n",
              "    </div>\n",
              "    "
            ]
          },
          "metadata": {}
        },
        {
          "output_type": "display_data",
          "data": {
            "text/plain": [
              "<IPython.core.display.HTML object>"
            ],
            "text/html": [
              "\n",
              "<style>\n",
              "    /* Turns off some styling */\n",
              "    progress {\n",
              "        /* gets rid of default border in Firefox and Opera. */\n",
              "        border: none;\n",
              "        /* Needs to be in here for Safari polyfill so background images work as expected. */\n",
              "        background-size: auto;\n",
              "    }\n",
              "    progress:not([value]), progress:not([value])::-webkit-progress-bar {\n",
              "        background: repeating-linear-gradient(45deg, #7e7e7e, #7e7e7e 10px, #5c5c5c 10px, #5c5c5c 20px);\n",
              "    }\n",
              "    .progress-bar-interrupted, .progress-bar-interrupted::-webkit-progress-bar {\n",
              "        background: #F44336;\n",
              "    }\n",
              "</style>\n"
            ]
          },
          "metadata": {}
        },
        {
          "output_type": "display_data",
          "data": {
            "text/plain": [
              "<IPython.core.display.HTML object>"
            ],
            "text/html": [
              "\n",
              "    <div>\n",
              "      <progress value='7500' class='' max='7500' style='width:300px; height:20px; vertical-align: middle;'></progress>\n",
              "      100.00% [7500/7500 02:47&lt;00:00 Sampling 5 chains, 0 divergences]\n",
              "    </div>\n",
              "    "
            ]
          },
          "metadata": {}
        },
        {
          "output_type": "display_data",
          "data": {
            "text/plain": [
              "<IPython.core.display.HTML object>"
            ],
            "text/html": [
              "\n",
              "<style>\n",
              "    /* Turns off some styling */\n",
              "    progress {\n",
              "        /* gets rid of default border in Firefox and Opera. */\n",
              "        border: none;\n",
              "        /* Needs to be in here for Safari polyfill so background images work as expected. */\n",
              "        background-size: auto;\n",
              "    }\n",
              "    progress:not([value]), progress:not([value])::-webkit-progress-bar {\n",
              "        background: repeating-linear-gradient(45deg, #7e7e7e, #7e7e7e 10px, #5c5c5c 10px, #5c5c5c 20px);\n",
              "    }\n",
              "    .progress-bar-interrupted, .progress-bar-interrupted::-webkit-progress-bar {\n",
              "        background: #F44336;\n",
              "    }\n",
              "</style>\n"
            ]
          },
          "metadata": {}
        },
        {
          "output_type": "display_data",
          "data": {
            "text/plain": [
              "<IPython.core.display.HTML object>"
            ],
            "text/html": [
              "\n",
              "    <div>\n",
              "      <progress value='7500' class='' max='7500' style='width:300px; height:20px; vertical-align: middle;'></progress>\n",
              "      100.00% [7500/7500 08:21&lt;00:00 Sampling 5 chains, 14 divergences]\n",
              "    </div>\n",
              "    "
            ]
          },
          "metadata": {}
        },
        {
          "output_type": "stream",
          "name": "stderr",
          "text": [
            "ERROR:pymc.stats.convergence:There were 14 divergences after tuning. Increase `target_accept` or reparameterize.\n"
          ]
        },
        {
          "output_type": "stream",
          "name": "stdout",
          "text": [
            "FF\n"
          ]
        },
        {
          "output_type": "display_data",
          "data": {
            "text/plain": [
              "<IPython.core.display.HTML object>"
            ],
            "text/html": [
              "\n",
              "<style>\n",
              "    /* Turns off some styling */\n",
              "    progress {\n",
              "        /* gets rid of default border in Firefox and Opera. */\n",
              "        border: none;\n",
              "        /* Needs to be in here for Safari polyfill so background images work as expected. */\n",
              "        background-size: auto;\n",
              "    }\n",
              "    progress:not([value]), progress:not([value])::-webkit-progress-bar {\n",
              "        background: repeating-linear-gradient(45deg, #7e7e7e, #7e7e7e 10px, #5c5c5c 10px, #5c5c5c 20px);\n",
              "    }\n",
              "    .progress-bar-interrupted, .progress-bar-interrupted::-webkit-progress-bar {\n",
              "        background: #F44336;\n",
              "    }\n",
              "</style>\n"
            ]
          },
          "metadata": {}
        },
        {
          "output_type": "display_data",
          "data": {
            "text/plain": [
              "<IPython.core.display.HTML object>"
            ],
            "text/html": [
              "\n",
              "    <div>\n",
              "      <progress value='7500' class='' max='7500' style='width:300px; height:20px; vertical-align: middle;'></progress>\n",
              "      100.00% [7500/7500 01:24&lt;00:00 Sampling 5 chains, 0 divergences]\n",
              "    </div>\n",
              "    "
            ]
          },
          "metadata": {}
        },
        {
          "output_type": "display_data",
          "data": {
            "text/plain": [
              "<IPython.core.display.HTML object>"
            ],
            "text/html": [
              "\n",
              "<style>\n",
              "    /* Turns off some styling */\n",
              "    progress {\n",
              "        /* gets rid of default border in Firefox and Opera. */\n",
              "        border: none;\n",
              "        /* Needs to be in here for Safari polyfill so background images work as expected. */\n",
              "        background-size: auto;\n",
              "    }\n",
              "    progress:not([value]), progress:not([value])::-webkit-progress-bar {\n",
              "        background: repeating-linear-gradient(45deg, #7e7e7e, #7e7e7e 10px, #5c5c5c 10px, #5c5c5c 20px);\n",
              "    }\n",
              "    .progress-bar-interrupted, .progress-bar-interrupted::-webkit-progress-bar {\n",
              "        background: #F44336;\n",
              "    }\n",
              "</style>\n"
            ]
          },
          "metadata": {}
        },
        {
          "output_type": "display_data",
          "data": {
            "text/plain": [
              "<IPython.core.display.HTML object>"
            ],
            "text/html": [
              "\n",
              "    <div>\n",
              "      <progress value='7500' class='' max='7500' style='width:300px; height:20px; vertical-align: middle;'></progress>\n",
              "      100.00% [7500/7500 01:15&lt;00:00 Sampling 5 chains, 0 divergences]\n",
              "    </div>\n",
              "    "
            ]
          },
          "metadata": {}
        },
        {
          "output_type": "display_data",
          "data": {
            "text/plain": [
              "<IPython.core.display.HTML object>"
            ],
            "text/html": [
              "\n",
              "<style>\n",
              "    /* Turns off some styling */\n",
              "    progress {\n",
              "        /* gets rid of default border in Firefox and Opera. */\n",
              "        border: none;\n",
              "        /* Needs to be in here for Safari polyfill so background images work as expected. */\n",
              "        background-size: auto;\n",
              "    }\n",
              "    progress:not([value]), progress:not([value])::-webkit-progress-bar {\n",
              "        background: repeating-linear-gradient(45deg, #7e7e7e, #7e7e7e 10px, #5c5c5c 10px, #5c5c5c 20px);\n",
              "    }\n",
              "    .progress-bar-interrupted, .progress-bar-interrupted::-webkit-progress-bar {\n",
              "        background: #F44336;\n",
              "    }\n",
              "</style>\n"
            ]
          },
          "metadata": {}
        },
        {
          "output_type": "display_data",
          "data": {
            "text/plain": [
              "<IPython.core.display.HTML object>"
            ],
            "text/html": [
              "\n",
              "    <div>\n",
              "      <progress value='7500' class='' max='7500' style='width:300px; height:20px; vertical-align: middle;'></progress>\n",
              "      100.00% [7500/7500 01:24&lt;00:00 Sampling 5 chains, 0 divergences]\n",
              "    </div>\n",
              "    "
            ]
          },
          "metadata": {}
        },
        {
          "output_type": "display_data",
          "data": {
            "text/plain": [
              "<IPython.core.display.HTML object>"
            ],
            "text/html": [
              "\n",
              "<style>\n",
              "    /* Turns off some styling */\n",
              "    progress {\n",
              "        /* gets rid of default border in Firefox and Opera. */\n",
              "        border: none;\n",
              "        /* Needs to be in here for Safari polyfill so background images work as expected. */\n",
              "        background-size: auto;\n",
              "    }\n",
              "    progress:not([value]), progress:not([value])::-webkit-progress-bar {\n",
              "        background: repeating-linear-gradient(45deg, #7e7e7e, #7e7e7e 10px, #5c5c5c 10px, #5c5c5c 20px);\n",
              "    }\n",
              "    .progress-bar-interrupted, .progress-bar-interrupted::-webkit-progress-bar {\n",
              "        background: #F44336;\n",
              "    }\n",
              "</style>\n"
            ]
          },
          "metadata": {}
        },
        {
          "output_type": "display_data",
          "data": {
            "text/plain": [
              "<IPython.core.display.HTML object>"
            ],
            "text/html": [
              "\n",
              "    <div>\n",
              "      <progress value='7500' class='' max='7500' style='width:300px; height:20px; vertical-align: middle;'></progress>\n",
              "      100.00% [7500/7500 01:18&lt;00:00 Sampling 5 chains, 0 divergences]\n",
              "    </div>\n",
              "    "
            ]
          },
          "metadata": {}
        },
        {
          "output_type": "display_data",
          "data": {
            "text/plain": [
              "<IPython.core.display.HTML object>"
            ],
            "text/html": [
              "\n",
              "<style>\n",
              "    /* Turns off some styling */\n",
              "    progress {\n",
              "        /* gets rid of default border in Firefox and Opera. */\n",
              "        border: none;\n",
              "        /* Needs to be in here for Safari polyfill so background images work as expected. */\n",
              "        background-size: auto;\n",
              "    }\n",
              "    progress:not([value]), progress:not([value])::-webkit-progress-bar {\n",
              "        background: repeating-linear-gradient(45deg, #7e7e7e, #7e7e7e 10px, #5c5c5c 10px, #5c5c5c 20px);\n",
              "    }\n",
              "    .progress-bar-interrupted, .progress-bar-interrupted::-webkit-progress-bar {\n",
              "        background: #F44336;\n",
              "    }\n",
              "</style>\n"
            ]
          },
          "metadata": {}
        },
        {
          "output_type": "display_data",
          "data": {
            "text/plain": [
              "<IPython.core.display.HTML object>"
            ],
            "text/html": [
              "\n",
              "    <div>\n",
              "      <progress value='7500' class='' max='7500' style='width:300px; height:20px; vertical-align: middle;'></progress>\n",
              "      100.00% [7500/7500 03:04&lt;00:00 Sampling 5 chains, 0 divergences]\n",
              "    </div>\n",
              "    "
            ]
          },
          "metadata": {}
        }
      ]
    },
    {
      "cell_type": "markdown",
      "source": [
        "- GUARDADO DE LOS MODELOS"
      ],
      "metadata": {
        "id": "j7wJh7N4wvCA"
      }
    },
    {
      "cell_type": "code",
      "source": [
        "ruta_drive = '/content/drive/MyDrive/Deep Learning/TG'\n",
        "with open(ruta_drive + 'data_train.pkl', 'wb') as f:\n",
        "    pickle.dump(data_train, f)\n",
        "with open(ruta_drive + 'data_test.pkl', 'wb') as f:\n",
        "    pickle.dump(data_test, f)\n",
        "with open(ruta_drive + 'trazados.pkl', 'wb') as f:\n",
        "    pickle.dump(trazados_data, f)"
      ],
      "metadata": {
        "id": "aeDnYwWNwuwQ"
      },
      "execution_count": null,
      "outputs": []
    }
  ]
}